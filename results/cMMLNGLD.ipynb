{
 "cells": [
  {
   "cell_type": "code",
   "execution_count": 30,
   "metadata": {},
   "outputs": [],
   "source": [
    "import pm4py\n",
    "import pandas as pd\n",
    "import matplotlib.pyplot as plt\n",
    "from tqdm import tqdm\n",
    "import time\n",
    "import math\n",
    "import collections\n",
    "import numpy as np"
   ]
  },
  {
   "cell_type": "code",
   "execution_count": 31,
   "metadata": {},
   "outputs": [],
   "source": [
    "file_name = \"syn_3\"\n",
    "attribute_key = \"property_lt_20\""
   ]
  },
  {
   "cell_type": "code",
   "execution_count": 32,
   "metadata": {},
   "outputs": [],
   "source": [
    "case_attribute_key = f'case:{attribute_key}'\n",
    "case_id_key = \"case:concept:name\"\n",
    "\n",
    "# df = pm4py.read_xes(f'../logs/{file_name}.xes')\n",
    "df = pd.read_csv(f'../logs/{file_name}.{attribute_key}.csv')\n",
    "df[\"time:timestamp\"] = pd.to_datetime(df['time:timestamp'])\n",
    "df[\"case:concept:name\"] = df['case:concept:name'].astype(str)\n",
    "df[\"concept:name\"] = df['concept:name'].astype(str)\n",
    "\n",
    "\n",
    "df = df.dropna(subset=[case_attribute_key]).reset_index() # filter empty rows"
   ]
  },
  {
   "cell_type": "code",
   "execution_count": 33,
   "metadata": {},
   "outputs": [
    {
     "name": "stdout",
     "output_type": "stream",
     "text": [
      "512\n"
     ]
    }
   ],
   "source": [
    "variants = pm4py.get_variants_as_tuples(df)\n",
    "activities = {}\n",
    "\n",
    "for (v, o) in variants.items():\n",
    "    for a in v:\n",
    "        activities[a] = activities.setdefault(a, 0) + o\n",
    "\n",
    "activities = dict(sorted(activities.items(), key=lambda x: x[1], reverse=True))\n",
    "activity_to_char = { k: chr(i) for i, (k, v) in enumerate(activities.items()) }\n",
    "print(len(activity_to_char))\n",
    "\n",
    "def trace_to_string(t):\n",
    "    return \"\".join([ activity_to_char[a] for a in t ])"
   ]
  },
  {
   "cell_type": "code",
   "execution_count": 34,
   "metadata": {},
   "outputs": [],
   "source": [
    "from rapidfuzz.distance import Levenshtein\n",
    "\n",
    "def LD(A, B):\n",
    "    return Levenshtein.distance(A, B)\n",
    "\n",
    "def NGLD(A, B):\n",
    "    ld = LD(A, B)\n",
    "    return (2 * ld) / ((len(A) + len(B)) + ld)"
   ]
  },
  {
   "cell_type": "code",
   "execution_count": 35,
   "metadata": {},
   "outputs": [],
   "source": [
    "def LNGLD(L1, L2, S1, S2):\n",
    "    L1_string_log = { trace_to_string(k): v for k, v in L1.items() }\n",
    "    L2_string_log = { trace_to_string(k): v for k, v in L2.items() if v > 0 }\n",
    "\n",
    "    sum = 0\n",
    "    for t1, n1 in L1_string_log.items():\n",
    "        for t2, n2 in L2_string_log.items():\n",
    "            sum += NGLD(t1, t2) * n1 * n2\n",
    "\n",
    "    return sum / (S1 * S2)"
   ]
  },
  {
   "cell_type": "code",
   "execution_count": 36,
   "metadata": {},
   "outputs": [],
   "source": [
    "def MMLNGLD(L1, L2, S1, S2):\n",
    "    return ((1 - LNGLD(L1, L2, S1, S2)) + LNGLD(L1, L1, S1, S1) + LNGLD(L2, L2, S2, S2)) / 3"
   ]
  },
  {
   "cell_type": "code",
   "execution_count": 37,
   "metadata": {},
   "outputs": [],
   "source": [
    "def cMMLNGLD(l1, l2, s1, s2, phi=3):\n",
    "\n",
    "    d = MMLNGLD(l1, l2, s1, s2)\n",
    "\n",
    "    full = sum([ [k] * v for k, v in l1.items() ] + [ [k] * v for k, v in l2.items() ], [])\n",
    "\n",
    "    s = 0\n",
    "    for i in range(phi):\n",
    "\n",
    "        rs1 = [ full[math.floor(len(full) * r)] for r in np.random.random_sample((int(s1),)) ]\n",
    "\n",
    "        l1_ = collections.Counter(rs1)\n",
    "        l2_ = collections.Counter(full) - l1_\n",
    "\n",
    "        d_ = MMLNGLD(l1_, l2_, s1, s2)\n",
    "\n",
    "        s = s + d_\n",
    "\n",
    "    return d / (s / phi)"
   ]
  },
  {
   "cell_type": "code",
   "execution_count": 38,
   "metadata": {},
   "outputs": [],
   "source": [
    "attribute_values = pm4py.get_trace_attribute_values(df, attribute_key)\n",
    "sorted_attribute_values = sorted([ float(k) for k in attribute_values.keys() ])\n",
    "\n",
    "# group df by case ids\n",
    "grouped = df.filter([case_id_key, case_attribute_key]).groupby(case_id_key, sort=False)"
   ]
  },
  {
   "cell_type": "code",
   "execution_count": 39,
   "metadata": {},
   "outputs": [
    {
     "name": "stderr",
     "output_type": "stream",
     "text": [
      "100%|██████████| 68/68 [01:40<00:00,  1.48s/it]\n"
     ]
    },
    {
     "name": "stdout",
     "output_type": "stream",
     "text": [
      "time elapsed: 100.73779654502869\n"
     ]
    }
   ],
   "source": [
    "df_gte_light = grouped.first() # initial gte group\n",
    "\n",
    "# define absolute languages (counting the occurrence of cases)\n",
    "# devide absoulte numbers by total number of cases later(!), otherwise every values has to be updated\n",
    "language_lt = {}\n",
    "language_gte = pm4py.stats.get_variants(df)\n",
    "\n",
    "ds = []\n",
    "\n",
    "t = time.time()\n",
    "\n",
    "for pivot in tqdm(sorted_attribute_values[1:]):\n",
    "\n",
    "    # find affected cases\n",
    "    df_affected_light_idx = df_gte_light[df_gte_light[case_attribute_key] < pivot].index\n",
    "\n",
    "    # remove affected cases from gte group\n",
    "    df_gte_light.drop(df_affected_light_idx, inplace=True)\n",
    "\n",
    "    # translate into full df\n",
    "    df_affected = pd.concat([ df.loc[grouped.indices[i]] for i in df_affected_light_idx ])\n",
    "\n",
    "    # update absoulte languages\n",
    "    for tr, n in pm4py.stats.get_variants(df_affected).items():\n",
    "        language_lt[tr] = language_lt.setdefault(tr, 0) + n\n",
    "        language_gte[tr] = language_gte[tr] - n\n",
    "\n",
    "    language_lt_size = sum(language_lt.values(), 0.0)\n",
    "    language_gte_size = sum(language_gte.values(), 0.0)\n",
    "\n",
    "    cmmlngld = cMMLNGLD(language_lt, language_gte, language_lt_size, language_gte_size)\n",
    "        \n",
    "    ds.append(cmmlngld)\n",
    "\n",
    "t = time.time() - t\n",
    "\n",
    "time.sleep(1)\n",
    "\n",
    "print(f\"time elapsed: {t}\")"
   ]
  },
  {
   "cell_type": "code",
   "execution_count": 40,
   "metadata": {},
   "outputs": [],
   "source": [
    "# syn_3 property_lt_20: 256m 18.95s (single thread) / (lv: 125.84s) / (rf: 152.85s / 159.47s / 153.67)\n",
    "# syn_2 property_lt_20: 15.76s (single thread) / (lv: 0.24s) / (rf: 257.88ms / 251.84ms / 267.80ms)\n",
    "# syn_1 property_lt_20: 63.42ms (single thread) / (rf: 93.42ms / 74.00ms / 98.00ms)"
   ]
  },
  {
   "cell_type": "code",
   "execution_count": 41,
   "metadata": {},
   "outputs": [],
   "source": [
    "# mmlnglds = [ (d + (2 - s1 - s2) / 2) / 2 for d, s1, s2 in zip(ds, s1s, s2s) ]"
   ]
  },
  {
   "cell_type": "code",
   "execution_count": 44,
   "metadata": {},
   "outputs": [
    {
     "data": {
      "text/plain": [
       "<matplotlib.legend.Legend at 0x7f442393c4d0>"
      ]
     },
     "execution_count": 44,
     "metadata": {},
     "output_type": "execute_result"
    },
    {
     "data": {
      "image/png": "[encoded data removed]",
      "text/plain": [
       "<Figure size 1000x600 with 1 Axes>"
      ]
     },
     "metadata": {},
     "output_type": "display_data"
    }
   ],
   "source": [
    "plt.figure(figsize=(10,6))\n",
    "\n",
    "# plot mmlngld\n",
    "plt.plot(sorted_attribute_values[1:], ds, label=r\"$\\Delta(L_1,L_2)$\")\n",
    "# plt.plot(sorted_attribute_values[1:], s1s, label=r\"$\\Delta(L_1,L_1)$\")\n",
    "# plt.plot(sorted_attribute_values[1:], s2s, label=r\"$\\Delta(L_2,L_2)$\")\n",
    "# plt.plot(sorted_attribute_values[1:], mmlnglds)\n",
    "plt.xscale(\"log\")\n",
    "plt.legend()\n",
    "# plt.savefig(f\"out.mmlngld.{file_name}.{attribute_key}.png\", bbox_inches=\"tight\")"
   ]
  },
  {
   "cell_type": "code",
   "execution_count": null,
   "metadata": {},
   "outputs": [],
   "source": [
    "# pd.DataFrame({\"d\": ds, \"s1\": s1s, \"s2\": s2s}).to_csv(f\"out.mmlngld.{file_name}.{attribute_key}.csv\", index=False, header=False)"
   ]
  }
 ],
 "metadata": {
  "kernelspec": {
   "display_name": "Python 3",
   "language": "python",
   "name": "python3"
  },
  "language_info": {
   "codemirror_mode": {
    "name": "ipython",
    "version": 3
   },
   "file_extension": ".py",
   "mimetype": "text/x-python",
   "name": "python",
   "nbconvert_exporter": "python",
   "pygments_lexer": "ipython3",
   "version": "3.11.4"
  }
 },
 "nbformat": 4,
 "nbformat_minor": 2
}
