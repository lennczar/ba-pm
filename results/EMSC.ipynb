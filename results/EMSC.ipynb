{
 "cells": [
  {
   "cell_type": "code",
   "execution_count": 2,
   "metadata": {},
   "outputs": [
    {
     "name": "stderr",
     "output_type": "stream",
     "text": [
      "/home/lennc/.local/lib/python3.11/site-packages/pm4py/algo/evaluation/earth_mover_distance/__init__.py:21: UserWarning: The earth_mover_distance package will be removed in a future release.\n",
      "  warnings.warn(\"The earth_mover_distance package will be removed in a future release.\")\n"
     ]
    }
   ],
   "source": [
    "import pm4py\n",
    "import pandas as pd\n",
    "import matplotlib.pyplot as plt\n",
    "from tqdm import tqdm\n",
    "import time\n",
    "from pm4py.algo.evaluation.earth_mover_distance import algorithm as earth_mover_distance"
   ]
  },
  {
   "cell_type": "code",
   "execution_count": 3,
   "metadata": {},
   "outputs": [],
   "source": [
    "file_name = \"syn_4\"\n",
    "attribute_key = \"property_lt_20\""
   ]
  },
  {
   "cell_type": "code",
   "execution_count": 4,
   "metadata": {},
   "outputs": [
    {
     "name": "stdout",
     "output_type": "stream",
     "text": [
      "log size: 10000\n",
      "removing empty rows...\n",
      "log size: 10000\n",
      "removing traces with > 1000 events...\n",
      "log size: 10000\n"
     ]
    },
    {
     "data": {
      "text/html": [
       "<div>\n",
       "<style scoped>\n",
       "    .dataframe tbody tr th:only-of-type {\n",
       "        vertical-align: middle;\n",
       "    }\n",
       "\n",
       "    .dataframe tbody tr th {\n",
       "        vertical-align: top;\n",
       "    }\n",
       "\n",
       "    .dataframe thead th {\n",
       "        text-align: right;\n",
       "    }\n",
       "</style>\n",
       "<table border=\"1\" class=\"dataframe\">\n",
       "  <thead>\n",
       "    <tr style=\"text-align: right;\">\n",
       "      <th></th>\n",
       "      <th>index</th>\n",
       "      <th>case:concept:name</th>\n",
       "      <th>concept:name</th>\n",
       "      <th>time:timestamp</th>\n",
       "      <th>lifecycle:transition</th>\n",
       "      <th>case:property_lt_20</th>\n",
       "    </tr>\n",
       "  </thead>\n",
       "  <tbody>\n",
       "    <tr>\n",
       "      <th>0</th>\n",
       "      <td>0</td>\n",
       "      <td>0</td>\n",
       "      <td>0</td>\n",
       "      <td>1999-12-31 23:00:00+00:00</td>\n",
       "      <td>start</td>\n",
       "      <td>93</td>\n",
       "    </tr>\n",
       "    <tr>\n",
       "      <th>1</th>\n",
       "      <td>1</td>\n",
       "      <td>0</td>\n",
       "      <td>0</td>\n",
       "      <td>2000-01-01 23:00:00+00:00</td>\n",
       "      <td>complete</td>\n",
       "      <td>93</td>\n",
       "    </tr>\n",
       "    <tr>\n",
       "      <th>2</th>\n",
       "      <td>2</td>\n",
       "      <td>1</td>\n",
       "      <td>1</td>\n",
       "      <td>1999-12-31 23:00:00+00:00</td>\n",
       "      <td>start</td>\n",
       "      <td>4</td>\n",
       "    </tr>\n",
       "    <tr>\n",
       "      <th>3</th>\n",
       "      <td>3</td>\n",
       "      <td>1</td>\n",
       "      <td>1</td>\n",
       "      <td>2000-01-01 23:00:00+00:00</td>\n",
       "      <td>complete</td>\n",
       "      <td>4</td>\n",
       "    </tr>\n",
       "    <tr>\n",
       "      <th>4</th>\n",
       "      <td>4</td>\n",
       "      <td>10</td>\n",
       "      <td>0</td>\n",
       "      <td>1999-12-31 23:00:00+00:00</td>\n",
       "      <td>start</td>\n",
       "      <td>90</td>\n",
       "    </tr>\n",
       "  </tbody>\n",
       "</table>\n",
       "</div>"
      ],
      "text/plain": [
       "   index case:concept:name concept:name            time:timestamp  \\\n",
       "0      0                 0            0 1999-12-31 23:00:00+00:00   \n",
       "1      1                 0            0 2000-01-01 23:00:00+00:00   \n",
       "2      2                 1            1 1999-12-31 23:00:00+00:00   \n",
       "3      3                 1            1 2000-01-01 23:00:00+00:00   \n",
       "4      4                10            0 1999-12-31 23:00:00+00:00   \n",
       "\n",
       "  lifecycle:transition  case:property_lt_20  \n",
       "0                start                   93  \n",
       "1             complete                   93  \n",
       "2                start                    4  \n",
       "3             complete                    4  \n",
       "4                start                   90  "
      ]
     },
     "metadata": {},
     "output_type": "display_data"
    }
   ],
   "source": [
    "case_attribute_key = f'case:{attribute_key}'\n",
    "case_id_key = \"case:concept:name\"\n",
    "\n",
    "# df = pm4py.read_xes(f'../logs/{file_name}.xes')\n",
    "df = pd.read_csv(f'../logs/{file_name}.{attribute_key}.chared.csv')\n",
    "df[\"time:timestamp\"] = pd.to_datetime(df['time:timestamp'])\n",
    "df[\"case:concept:name\"] = df['case:concept:name'].astype(str)\n",
    "df[\"concept:name\"] = df['concept:name'].astype(str)\n",
    "\n",
    "print(f\"log size: {df.groupby(df[case_id_key]).ngroups}\")\n",
    "print(\"removing empty rows...\")\n",
    "\n",
    "df = df.dropna(subset=[case_attribute_key]).reset_index() # filter empty rows\n",
    "\n",
    "print(f\"log size: {df.groupby(df[case_id_key]).ngroups}\")\n",
    "print(\"removing traces with > 1000 events...\")\n",
    "\n",
    "df = df[df[case_id_key].groupby(df[case_id_key]).transform('size') < 1500].drop(columns=[\"level_0\",\"Unnamed: 0\", \"index\"]).reset_index() # filter traces with > 1500 events\n",
    "\n",
    "print(f\"log size: {df.groupby(df[case_id_key]).ngroups}\")\n",
    "\n",
    "display(df.head())"
   ]
  },
  {
   "cell_type": "code",
   "execution_count": 5,
   "metadata": {},
   "outputs": [],
   "source": [
    "attribute_values = pm4py.get_trace_attribute_values(df, attribute_key)\n",
    "sorted_attribute_values = sorted([ float(k) for k in attribute_values.keys() ])\n",
    "\n",
    "# group df by case ids\n",
    "grouped = df.filter([case_id_key, case_attribute_key]).groupby(case_id_key, sort=False)"
   ]
  },
  {
   "cell_type": "code",
   "execution_count": 6,
   "metadata": {},
   "outputs": [
    {
     "name": "stderr",
     "output_type": "stream",
     "text": [
      "100%|██████████| 100/100 [00:01<00:00, 57.81it/s]\n"
     ]
    },
    {
     "name": "stdout",
     "output_type": "stream",
     "text": [
      "time elapsed: 1.7354745864868164\n"
     ]
    }
   ],
   "source": [
    "df_gte_light = grouped.first() # initial gte group\n",
    "\n",
    "# define absolute languages (counting the occurrence of cases)\n",
    "# devide absoulte numbers by total number of cases later(!), otherwise every values has to be updated\n",
    "language_lt = {}\n",
    "language_gte = pm4py.stats.get_variants(df)\n",
    "\n",
    "emscs = []\n",
    "\n",
    "t = time.time()\n",
    "\n",
    "for pivot in tqdm(sorted_attribute_values[1:]):\n",
    "\n",
    "    # find affected cases\n",
    "    df_affected_light_idx = df_gte_light[df_gte_light[case_attribute_key] < pivot].index\n",
    "\n",
    "    # remove affected cases from gte group\n",
    "    df_gte_light.drop(df_affected_light_idx, inplace=True)\n",
    "\n",
    "    # translate into full df\n",
    "    df_affected = pd.concat([ df.loc[grouped.indices[i]] for i in df_affected_light_idx ])\n",
    "\n",
    "    # update absoulte languages\n",
    "    for tr, n in pm4py.stats.get_variants(df_affected).items():\n",
    "        language_lt[tr] = language_lt.setdefault(tr, 0) + n\n",
    "        language_gte[tr] = language_gte[tr] - n\n",
    "\n",
    "    language_lt_size = sum(language_lt.values(), 0.0)\n",
    "    language_gte_size = sum(language_gte.values(), 0.0)\n",
    "\n",
    "    stochastic_language_lt = { k: v / language_lt_size for k, v in language_lt.items() }\n",
    "    stochastic_language_gte = { k: v / language_gte_size for k, v in language_gte.items() }\n",
    "\n",
    "    # emsc = earth_mover_distance.apply(stochastic_language_lt, stochastic_language_gte)\n",
    "    emsc = pm4py.compute_emd(stochastic_language_lt, stochastic_language_gte)\n",
    "\n",
    "    # collect data to plot graph\n",
    "    emscs.append(emsc)\n",
    "\n",
    "t = time.time() - t\n",
    "\n",
    "time.sleep(1)\n",
    "\n",
    "print(f\"time elapsed: {t}\")"
   ]
  },
  {
   "cell_type": "code",
   "execution_count": 7,
   "metadata": {},
   "outputs": [
    {
     "data": {
      "image/png": "[encoded data removed]",
      "text/plain": [
       "<Figure size 1000x600 with 1 Axes>"
      ]
     },
     "metadata": {},
     "output_type": "display_data"
    }
   ],
   "source": [
    "plt.figure(figsize=(10,6))\n",
    "\n",
    "# plot mmlngld\n",
    "plt.plot(sorted_attribute_values[1:], emscs, label=r\"EMSC$(L_1,L_2)$\")\n",
    "plt.legend()\n",
    "plt.savefig(f\"out.emsc.{file_name}.{attribute_key}.png\", bbox_inches=\"tight\")"
   ]
  },
  {
   "cell_type": "code",
   "execution_count": 8,
   "metadata": {},
   "outputs": [],
   "source": [
    "pd.DataFrame({\"emsc\": emscs}).to_csv(f\"out.emsc.{file_name}.{attribute_key}.csv\", index=False, header=False)"
   ]
  }
 ],
 "metadata": {
  "kernelspec": {
   "display_name": "Python 3",
   "language": "python",
   "name": "python3"
  },
  "language_info": {
   "codemirror_mode": {
    "name": "ipython",
    "version": 3
   },
   "file_extension": ".py",
   "mimetype": "text/x-python",
   "name": "python",
   "nbconvert_exporter": "python",
   "pygments_lexer": "ipython3",
   "version": "3.11.4"
  }
 },
 "nbformat": 4,
 "nbformat_minor": 2
}
