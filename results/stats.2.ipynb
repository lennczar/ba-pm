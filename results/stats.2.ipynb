{
 "cells": [
  {
   "cell_type": "code",
   "execution_count": 2,
   "metadata": {},
   "outputs": [
    {
     "name": "stderr",
     "output_type": "stream",
     "text": [
      "/home/lennc/.local/lib/python3.11/site-packages/pm4py/algo/evaluation/earth_mover_distance/__init__.py:21: UserWarning: The earth_mover_distance package will be removed in a future release.\n",
      "  warnings.warn(\"The earth_mover_distance package will be removed in a future release.\")\n"
     ]
    }
   ],
   "source": [
    "import pm4py\n",
    "import pandas as pd\n",
    "import matplotlib.pyplot as plt\n",
    "from tqdm import tqdm\n",
    "import time\n",
    "from pm4py.algo.evaluation.earth_mover_distance import algorithm as earth_mover_distance"
   ]
  },
  {
   "cell_type": "code",
   "execution_count": 36,
   "metadata": {},
   "outputs": [],
   "source": [
    "file_name = \"PrepaidTravelCost\""
   ]
  },
  {
   "cell_type": "code",
   "execution_count": 38,
   "metadata": {},
   "outputs": [
    {
     "name": "stderr",
     "output_type": "stream",
     "text": [
      "parsing log, completed traces :: 100%|██████████| 2099/2099 [00:00<00:00, 5077.43it/s]\n"
     ]
    }
   ],
   "source": [
    "case_id_key = \"case:concept:name\"\n",
    "\n",
    "df = pm4py.read_xes(f'../logs/{file_name}.xes')\n",
    "# df = pd.read_csv(f'../logs/{file_name}.{attribute_key}.csv')\n",
    "# df[\"time:timestamp\"] = pd.to_datetime(df['time:timestamp'])\n",
    "# df[\"case:concept:name\"] = df['case:concept:name'].astype(str)\n",
    "# df[\"concept:name\"] = df['concept:name'].astype(str)\n",
    "\n",
    "# df = df.dropna(subset=[case_attribute_key]).reset_index() # filter empty rows\n",
    "df.drop(df[df[\"lifecycle:transition\"] == \"start\"].index, inplace=True)"
   ]
  },
  {
   "cell_type": "code",
   "execution_count": 39,
   "metadata": {},
   "outputs": [
    {
     "data": {
      "text/html": [
       "<div>\n",
       "<style scoped>\n",
       "    .dataframe tbody tr th:only-of-type {\n",
       "        vertical-align: middle;\n",
       "    }\n",
       "\n",
       "    .dataframe tbody tr th {\n",
       "        vertical-align: top;\n",
       "    }\n",
       "\n",
       "    .dataframe thead th {\n",
       "        text-align: right;\n",
       "    }\n",
       "</style>\n",
       "<table border=\"1\" class=\"dataframe\">\n",
       "  <thead>\n",
       "    <tr style=\"text-align: right;\">\n",
       "      <th></th>\n",
       "      <th>id</th>\n",
       "      <th>org:resource</th>\n",
       "      <th>concept:name</th>\n",
       "      <th>time:timestamp</th>\n",
       "      <th>org:role</th>\n",
       "      <th>case:Rfp_id</th>\n",
       "      <th>case:Permit travel permit number</th>\n",
       "      <th>case:Task</th>\n",
       "      <th>case:OrganizationalEntity</th>\n",
       "      <th>case:RequestedAmount</th>\n",
       "      <th>...</th>\n",
       "      <th>case:Permit BudgetNumber</th>\n",
       "      <th>case:Permit ProjectNumber</th>\n",
       "      <th>case:Project</th>\n",
       "      <th>case:concept:name</th>\n",
       "      <th>case:Permit OrganizationalEntity</th>\n",
       "      <th>case:Permit RequestedBudget</th>\n",
       "      <th>case:Cost Type</th>\n",
       "      <th>case:Permit id</th>\n",
       "      <th>case:Permit ActivityNumber</th>\n",
       "      <th>case:RfpNumber</th>\n",
       "    </tr>\n",
       "  </thead>\n",
       "  <tbody>\n",
       "    <tr>\n",
       "      <th>0</th>\n",
       "      <td>st_step 73555_0</td>\n",
       "      <td>STAFF MEMBER</td>\n",
       "      <td>Permit SUBMITTED by EMPLOYEE</td>\n",
       "      <td>2017-01-09 13:48:43+00:00</td>\n",
       "      <td>EMPLOYEE</td>\n",
       "      <td>request for payment 73550</td>\n",
       "      <td>UNKNOWN</td>\n",
       "      <td>task 71977</td>\n",
       "      <td>organizational unit 65463</td>\n",
       "      <td>854.579838</td>\n",
       "      <td>...</td>\n",
       "      <td>budget 6198</td>\n",
       "      <td>UNKNOWN</td>\n",
       "      <td>project 503</td>\n",
       "      <td>request for payment 73550</td>\n",
       "      <td>organizational unit 65455</td>\n",
       "      <td>1979.272104</td>\n",
       "      <td>0</td>\n",
       "      <td>travel permit 73549</td>\n",
       "      <td>UNKNOWN</td>\n",
       "      <td>request for payment number 73551</td>\n",
       "    </tr>\n",
       "    <tr>\n",
       "      <th>1</th>\n",
       "      <td>st_step 73554_0</td>\n",
       "      <td>STAFF MEMBER</td>\n",
       "      <td>Permit FINAL_APPROVED by SUPERVISOR</td>\n",
       "      <td>2017-01-09 13:48:55+00:00</td>\n",
       "      <td>SUPERVISOR</td>\n",
       "      <td>request for payment 73550</td>\n",
       "      <td>UNKNOWN</td>\n",
       "      <td>task 71977</td>\n",
       "      <td>organizational unit 65463</td>\n",
       "      <td>854.579838</td>\n",
       "      <td>...</td>\n",
       "      <td>budget 6198</td>\n",
       "      <td>UNKNOWN</td>\n",
       "      <td>project 503</td>\n",
       "      <td>request for payment 73550</td>\n",
       "      <td>organizational unit 65455</td>\n",
       "      <td>1979.272104</td>\n",
       "      <td>0</td>\n",
       "      <td>travel permit 73549</td>\n",
       "      <td>UNKNOWN</td>\n",
       "      <td>request for payment number 73551</td>\n",
       "    </tr>\n",
       "    <tr>\n",
       "      <th>2</th>\n",
       "      <td>st_step 73558_0</td>\n",
       "      <td>STAFF MEMBER</td>\n",
       "      <td>Request For Payment SUBMITTED by EMPLOYEE</td>\n",
       "      <td>2017-01-12 10:40:27+00:00</td>\n",
       "      <td>EMPLOYEE</td>\n",
       "      <td>request for payment 73550</td>\n",
       "      <td>UNKNOWN</td>\n",
       "      <td>task 71977</td>\n",
       "      <td>organizational unit 65463</td>\n",
       "      <td>854.579838</td>\n",
       "      <td>...</td>\n",
       "      <td>budget 6198</td>\n",
       "      <td>UNKNOWN</td>\n",
       "      <td>project 503</td>\n",
       "      <td>request for payment 73550</td>\n",
       "      <td>organizational unit 65455</td>\n",
       "      <td>1979.272104</td>\n",
       "      <td>0</td>\n",
       "      <td>travel permit 73549</td>\n",
       "      <td>UNKNOWN</td>\n",
       "      <td>request for payment number 73551</td>\n",
       "    </tr>\n",
       "    <tr>\n",
       "      <th>3</th>\n",
       "      <td>st_step 73559_0</td>\n",
       "      <td>STAFF MEMBER</td>\n",
       "      <td>Request For Payment FINAL_APPROVED by SUPERVISOR</td>\n",
       "      <td>2017-01-12 10:41:59+00:00</td>\n",
       "      <td>SUPERVISOR</td>\n",
       "      <td>request for payment 73550</td>\n",
       "      <td>UNKNOWN</td>\n",
       "      <td>task 71977</td>\n",
       "      <td>organizational unit 65463</td>\n",
       "      <td>854.579838</td>\n",
       "      <td>...</td>\n",
       "      <td>budget 6198</td>\n",
       "      <td>UNKNOWN</td>\n",
       "      <td>project 503</td>\n",
       "      <td>request for payment 73550</td>\n",
       "      <td>organizational unit 65455</td>\n",
       "      <td>1979.272104</td>\n",
       "      <td>0</td>\n",
       "      <td>travel permit 73549</td>\n",
       "      <td>UNKNOWN</td>\n",
       "      <td>request for payment number 73551</td>\n",
       "    </tr>\n",
       "    <tr>\n",
       "      <th>4</th>\n",
       "      <td>st_step 73557_0</td>\n",
       "      <td>STAFF MEMBER</td>\n",
       "      <td>Request For Payment REJECTED by MISSING</td>\n",
       "      <td>2017-01-12 10:53:07+00:00</td>\n",
       "      <td>MISSING</td>\n",
       "      <td>request for payment 73550</td>\n",
       "      <td>UNKNOWN</td>\n",
       "      <td>task 71977</td>\n",
       "      <td>organizational unit 65463</td>\n",
       "      <td>854.579838</td>\n",
       "      <td>...</td>\n",
       "      <td>budget 6198</td>\n",
       "      <td>UNKNOWN</td>\n",
       "      <td>project 503</td>\n",
       "      <td>request for payment 73550</td>\n",
       "      <td>organizational unit 65455</td>\n",
       "      <td>1979.272104</td>\n",
       "      <td>0</td>\n",
       "      <td>travel permit 73549</td>\n",
       "      <td>UNKNOWN</td>\n",
       "      <td>request for payment number 73551</td>\n",
       "    </tr>\n",
       "  </tbody>\n",
       "</table>\n",
       "<p>5 rows × 22 columns</p>\n",
       "</div>"
      ],
      "text/plain": [
       "                id  org:resource  \\\n",
       "0  st_step 73555_0  STAFF MEMBER   \n",
       "1  st_step 73554_0  STAFF MEMBER   \n",
       "2  st_step 73558_0  STAFF MEMBER   \n",
       "3  st_step 73559_0  STAFF MEMBER   \n",
       "4  st_step 73557_0  STAFF MEMBER   \n",
       "\n",
       "                                       concept:name            time:timestamp  \\\n",
       "0                      Permit SUBMITTED by EMPLOYEE 2017-01-09 13:48:43+00:00   \n",
       "1               Permit FINAL_APPROVED by SUPERVISOR 2017-01-09 13:48:55+00:00   \n",
       "2         Request For Payment SUBMITTED by EMPLOYEE 2017-01-12 10:40:27+00:00   \n",
       "3  Request For Payment FINAL_APPROVED by SUPERVISOR 2017-01-12 10:41:59+00:00   \n",
       "4           Request For Payment REJECTED by MISSING 2017-01-12 10:53:07+00:00   \n",
       "\n",
       "     org:role                case:Rfp_id case:Permit travel permit number  \\\n",
       "0    EMPLOYEE  request for payment 73550                          UNKNOWN   \n",
       "1  SUPERVISOR  request for payment 73550                          UNKNOWN   \n",
       "2    EMPLOYEE  request for payment 73550                          UNKNOWN   \n",
       "3  SUPERVISOR  request for payment 73550                          UNKNOWN   \n",
       "4     MISSING  request for payment 73550                          UNKNOWN   \n",
       "\n",
       "    case:Task  case:OrganizationalEntity  case:RequestedAmount  ...  \\\n",
       "0  task 71977  organizational unit 65463            854.579838  ...   \n",
       "1  task 71977  organizational unit 65463            854.579838  ...   \n",
       "2  task 71977  organizational unit 65463            854.579838  ...   \n",
       "3  task 71977  organizational unit 65463            854.579838  ...   \n",
       "4  task 71977  organizational unit 65463            854.579838  ...   \n",
       "\n",
       "  case:Permit BudgetNumber case:Permit ProjectNumber case:Project  \\\n",
       "0              budget 6198                   UNKNOWN  project 503   \n",
       "1              budget 6198                   UNKNOWN  project 503   \n",
       "2              budget 6198                   UNKNOWN  project 503   \n",
       "3              budget 6198                   UNKNOWN  project 503   \n",
       "4              budget 6198                   UNKNOWN  project 503   \n",
       "\n",
       "           case:concept:name case:Permit OrganizationalEntity  \\\n",
       "0  request for payment 73550        organizational unit 65455   \n",
       "1  request for payment 73550        organizational unit 65455   \n",
       "2  request for payment 73550        organizational unit 65455   \n",
       "3  request for payment 73550        organizational unit 65455   \n",
       "4  request for payment 73550        organizational unit 65455   \n",
       "\n",
       "  case:Permit RequestedBudget case:Cost Type       case:Permit id  \\\n",
       "0                 1979.272104              0  travel permit 73549   \n",
       "1                 1979.272104              0  travel permit 73549   \n",
       "2                 1979.272104              0  travel permit 73549   \n",
       "3                 1979.272104              0  travel permit 73549   \n",
       "4                 1979.272104              0  travel permit 73549   \n",
       "\n",
       "   case:Permit ActivityNumber                    case:RfpNumber  \n",
       "0                     UNKNOWN  request for payment number 73551  \n",
       "1                     UNKNOWN  request for payment number 73551  \n",
       "2                     UNKNOWN  request for payment number 73551  \n",
       "3                     UNKNOWN  request for payment number 73551  \n",
       "4                     UNKNOWN  request for payment number 73551  \n",
       "\n",
       "[5 rows x 22 columns]"
      ]
     },
     "execution_count": 39,
     "metadata": {},
     "output_type": "execute_result"
    }
   ],
   "source": [
    "df.head()"
   ]
  },
  {
   "cell_type": "code",
   "execution_count": 40,
   "metadata": {},
   "outputs": [
    {
     "data": {
      "text/plain": [
       "['case:Rfp_id',\n",
       " 'case:Permit travel permit number',\n",
       " 'case:Task',\n",
       " 'case:OrganizationalEntity',\n",
       " 'case:RequestedAmount',\n",
       " 'case:Activity',\n",
       " 'case:Permit TaskNumber',\n",
       " 'case:Permit BudgetNumber',\n",
       " 'case:Permit ProjectNumber',\n",
       " 'case:Project',\n",
       " 'case:concept:name',\n",
       " 'case:Permit OrganizationalEntity',\n",
       " 'case:Permit RequestedBudget',\n",
       " 'case:Cost Type',\n",
       " 'case:Permit id',\n",
       " 'case:Permit ActivityNumber',\n",
       " 'case:RfpNumber']"
      ]
     },
     "execution_count": 40,
     "metadata": {},
     "output_type": "execute_result"
    }
   ],
   "source": [
    "pm4py.get_trace_attributes(df)"
   ]
  },
  {
   "cell_type": "code",
   "execution_count": 41,
   "metadata": {},
   "outputs": [
    {
     "data": {
      "text/plain": [
       "2099"
      ]
     },
     "execution_count": 41,
     "metadata": {},
     "output_type": "execute_result"
    }
   ],
   "source": [
    "sum(pm4py.get_variants(df).values())"
   ]
  },
  {
   "cell_type": "code",
   "execution_count": 42,
   "metadata": {},
   "outputs": [
    {
     "data": {
      "text/plain": [
       "202"
      ]
     },
     "execution_count": 42,
     "metadata": {},
     "output_type": "execute_result"
    }
   ],
   "source": [
    "len(pm4py.get_variants(df).values())"
   ]
  },
  {
   "cell_type": "code",
   "execution_count": 11,
   "metadata": {},
   "outputs": [
    {
     "name": "stdout",
     "output_type": "stream",
     "text": [
      "no age:1:                    Unnamed: 0                             concept:name  \\\n",
      "case:concept:name                                                        \n",
      "0                           0                  1e consult poliklinisch   \n",
      "6                         605  verlosk.-gynaec. korte kaart kosten-out   \n",
      "9                        1195  verlosk.-gynaec.   jaarkaart kosten-out   \n",
      "10                       1203  verlosk.-gynaec. korte kaart kosten-out   \n",
      "11                       1464  verlosk.-gynaec. korte kaart kosten-out   \n",
      "...                       ...                                      ...   \n",
      "1138                   150151          echografie  - genitalia interna   \n",
      "1139                   150182                         coupe ter inzage   \n",
      "1140                   150208            aanname laboratoriumonderzoek   \n",
      "1141                   150235        e.c.g.      - elektrocardiografie   \n",
      "1142                   150265            aanname laboratoriumonderzoek   \n",
      "\n",
      "                              time:timestamp lifecycle:transition  case:Age:1  \n",
      "case:concept:name                                                              \n",
      "0                  2005-01-02 23:00:00+00:00             complete         NaN  \n",
      "6                  2005-01-05 23:00:00+00:00             complete         NaN  \n",
      "9                  2005-01-07 23:00:00+00:00             complete         NaN  \n",
      "10                 2005-01-09 23:00:00+00:00             complete         NaN  \n",
      "11                 2005-01-09 23:00:00+00:00             complete         NaN  \n",
      "...                                      ...                  ...         ...  \n",
      "1138               2008-03-11 23:00:00+00:00             complete         NaN  \n",
      "1139               2008-03-11 23:00:00+00:00             complete         NaN  \n",
      "1140               2008-03-16 23:00:00+00:00             complete         NaN  \n",
      "1141               2008-03-17 23:00:00+00:00             complete         NaN  \n",
      "1142               2008-03-19 23:00:00+00:00             complete         NaN  \n",
      "\n",
      "[586 rows x 5 columns]\n",
      "no age:1:                    Unnamed: 0                             concept:name  \\\n",
      "case:concept:name                                                        \n",
      "1                          75  inwend.geneesk.  korte kaart kosten-out   \n",
      "2                         314  inwend.geneesk.  korte kaart kosten-out   \n",
      "3                         339  inwend.geneesk.  korte kaart kosten-out   \n",
      "4                         361  verlosk.-gynaec. korte kaart kosten-out   \n",
      "5                         546              vervolgconsult poliklinisch   \n",
      "...                       ...                                      ...   \n",
      "1094                   146905     cytologisch onderzoek - ectocervix -   \n",
      "1095                   146968                         coupe ter inzage   \n",
      "1096                   147241        e.c.g.      - elektrocardiografie   \n",
      "1099                   147517            aanname laboratoriumonderzoek   \n",
      "1100                   147677        e.c.g.      - elektrocardiografie   \n",
      "\n",
      "                              time:timestamp lifecycle:transition  case:Age:1  \n",
      "case:concept:name                                                              \n",
      "1                  2005-01-02 23:00:00+00:00             complete        39.0  \n",
      "2                  2005-01-02 23:00:00+00:00             complete        51.0  \n",
      "3                  2005-01-02 23:00:00+00:00             complete        55.0  \n",
      "4                  2005-01-02 23:00:00+00:00             complete        30.0  \n",
      "5                  2005-01-05 23:00:00+00:00             complete        76.0  \n",
      "...                                      ...                  ...         ...  \n",
      "1094               2007-12-26 23:00:00+00:00             complete        51.0  \n",
      "1095               2007-12-27 23:00:00+00:00             complete        59.0  \n",
      "1096               2007-12-30 23:00:00+00:00             complete        83.0  \n",
      "1099               2008-01-06 23:00:00+00:00             complete        47.0  \n",
      "1100               2008-01-06 23:00:00+00:00             complete        67.0  \n",
      "\n",
      "[557 rows x 5 columns]\n"
     ]
    }
   ],
   "source": [
    "df = pd.read_csv(\"../logs/Hospital_log.Age:1.csv\")\n",
    "df = df.groupby([\"case:concept:name\"]).first()\n",
    "display(df[df['case:Age:1'].isna()])\n",
    "display(df[df['case:Age:1'].notna()])\n",
    "print(f\"no age:1: {df[df['case:Age:1'].isna()]}\")\n",
    "print(f\"no age:1: {df[df['case:Age:1'].notna()]}\")"
   ]
  }
 ],
 "metadata": {
  "kernelspec": {
   "display_name": "Python 3",
   "language": "python",
   "name": "python3"
  },
  "language_info": {
   "codemirror_mode": {
    "name": "ipython",
    "version": 3
   },
   "file_extension": ".py",
   "mimetype": "text/x-python",
   "name": "python",
   "nbconvert_exporter": "python",
   "pygments_lexer": "ipython3",
   "version": "3.11.4"
  }
 },
 "nbformat": 4,
 "nbformat_minor": 2
}
