{
 "cells": [
  {
   "cell_type": "code",
   "execution_count": 25,
   "metadata": {},
   "outputs": [],
   "source": [
    "import pandas as pd\n",
    "import pm4py"
   ]
  },
  {
   "cell_type": "code",
   "execution_count": 26,
   "metadata": {},
   "outputs": [],
   "source": [
    "file_name = \"BPIC15_1\"\n",
    "attribute_key = \"SUMleges\""
   ]
  },
  {
   "cell_type": "code",
   "execution_count": 27,
   "metadata": {},
   "outputs": [
    {
     "name": "stdout",
     "output_type": "stream",
     "text": [
      "log size: 1199\n",
      "removing empty rows...\n",
      "log size: 906\n",
      "log size: 906\n"
     ]
    }
   ],
   "source": [
    "case_attribute_key = f'case:{attribute_key}'\n",
    "case_id_key = \"case:concept:name\"\n",
    "\n",
    "# df = pm4py.read_xes(f'../../logs/{file_name}.xes')\n",
    "df = pd.read_csv(f'../../logs/{file_name}.{attribute_key}.csv')\n",
    "df[\"time:timestamp\"] = pd.to_datetime(df['time:timestamp'])\n",
    "df[\"case:concept:name\"] = df['case:concept:name'].astype(str)\n",
    "df[\"concept:name\"] = df['concept:name'].astype(str)\n",
    "\n",
    "print(f\"log size: {df.groupby(df[case_id_key]).ngroups}\")\n",
    "\n",
    "print(\"removing empty rows...\")\n",
    "df = df.dropna(subset=[case_attribute_key]).reset_index() # filter empty rows\n",
    "\n",
    "print(f\"log size: {df.groupby(df[case_id_key]).ngroups}\")\n",
    "\n",
    "# print(\"removing traces with > 1000 events...\")\n",
    "# df = df[df[case_id_key].groupby(df[case_id_key]).transform('size') < 1500].drop(columns=[\"level_0\",\"Unnamed: 0\",\"index\"], errors='ignore').reset_index() # filter traces with > 1500 events\n",
    "\n",
    "print(f\"log size: {df.groupby(df[case_id_key]).ngroups}\")"
   ]
  },
  {
   "cell_type": "code",
   "execution_count": 28,
   "metadata": {},
   "outputs": [],
   "source": [
    "attribute_values = pm4py.get_trace_attribute_values(df, attribute_key)\n",
    "sorted_attribute_values = sorted([ float(k) for k in attribute_values.keys() ])\n",
    "\n",
    "pd.Series(sorted_attribute_values).to_csv(f\"av.{file_name}.{attribute_key}.csv\", index=False, header=None)"
   ]
  }
 ],
 "metadata": {
  "kernelspec": {
   "display_name": "Python 3",
   "language": "python",
   "name": "python3"
  },
  "language_info": {
   "codemirror_mode": {
    "name": "ipython",
    "version": 3
   },
   "file_extension": ".py",
   "mimetype": "text/x-python",
   "name": "python",
   "nbconvert_exporter": "python",
   "pygments_lexer": "ipython3",
   "version": "3.11.4"
  },
  "orig_nbformat": 4
 },
 "nbformat": 4,
 "nbformat_minor": 2
}
