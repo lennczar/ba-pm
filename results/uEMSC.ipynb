{
 "cells": [
  {
   "cell_type": "code",
   "execution_count": 1,
   "metadata": {},
   "outputs": [
    {
     "name": "stderr",
     "output_type": "stream",
     "text": [
      "/home/lennc/.local/lib/python3.11/site-packages/pm4py/algo/evaluation/earth_mover_distance/__init__.py:21: UserWarning: The earth_mover_distance package will be removed in a future release.\n",
      "  warnings.warn(\"The earth_mover_distance package will be removed in a future release.\")\n"
     ]
    }
   ],
   "source": [
    "import pm4py\n",
    "import pandas as pd\n",
    "import matplotlib.pyplot as plt\n",
    "from tqdm import tqdm\n",
    "import time\n",
    "from pm4py.algo.evaluation.earth_mover_distance import algorithm as earth_mover_distance"
   ]
  },
  {
   "cell_type": "code",
   "execution_count": 2,
   "metadata": {},
   "outputs": [],
   "source": [
    "file_name = \"PrepaidTravelCost\"\n",
    "attribute_key = \"RequestedAmount\""
   ]
  },
  {
   "cell_type": "code",
   "execution_count": 3,
   "metadata": {},
   "outputs": [],
   "source": [
    "case_attribute_key = f'case:{attribute_key}'\n",
    "case_id_key = \"case:concept:name\"\n",
    "\n",
    "# df = pm4py.read_xes(f'../logs/{file_name}.xes')\n",
    "df = pd.read_csv(f'../logs/{file_name}.{attribute_key}.csv')\n",
    "df[\"time:timestamp\"] = pd.to_datetime(df['time:timestamp'])\n",
    "\n",
    "df = df.dropna(subset=[case_attribute_key]).reset_index() # filter empty rows"
   ]
  },
  {
   "cell_type": "code",
   "execution_count": 4,
   "metadata": {},
   "outputs": [],
   "source": [
    "def uEMSC(l, m):\n",
    "    return 1 - sum([ max(pr - (m.get(tr) or 0), 0) for tr, pr in l.items() if pr > 0 ])"
   ]
  },
  {
   "cell_type": "code",
   "execution_count": 5,
   "metadata": {},
   "outputs": [],
   "source": [
    "attribute_values = pm4py.get_trace_attribute_values(df, attribute_key)\n",
    "sorted_attribute_values = sorted([ float(k) for k in attribute_values.keys() ])\n",
    "\n",
    "# group df by case ids\n",
    "grouped = df.filter([case_id_key, case_attribute_key]).groupby(case_id_key, sort=False)"
   ]
  },
  {
   "cell_type": "code",
   "execution_count": 6,
   "metadata": {},
   "outputs": [
    {
     "name": "stdout",
     "output_type": "stream",
     "text": [
      "time elapsed: 2.6365771293640137\n"
     ]
    }
   ],
   "source": [
    "df_gte_light = grouped.first() # initial gte group\n",
    "\n",
    "# define absolute languages (counting the occurrence of cases)\n",
    "# devide absoulte numbers by total number of cases later(!), otherwise every values has to be updated\n",
    "language_lt = {}\n",
    "language_gte = pm4py.stats.get_variants(df)\n",
    "\n",
    "uemscs = []\n",
    "\n",
    "t = time.time()\n",
    "\n",
    "for pivot in sorted_attribute_values[1:]:\n",
    "\n",
    "    # find affected cases\n",
    "    df_affected_light_idx = df_gte_light[df_gte_light[case_attribute_key] < pivot].index\n",
    "\n",
    "    # remove affected cases from gte group\n",
    "    df_gte_light.drop(df_affected_light_idx, inplace=True)\n",
    "\n",
    "    # translate into full df\n",
    "    df_affected = pd.concat([ df.loc[grouped.indices[i]] for i in df_affected_light_idx ])\n",
    "\n",
    "    # update absoulte languages\n",
    "    for tr, n in pm4py.stats.get_variants(df_affected).items():\n",
    "        language_lt[tr] = language_lt.setdefault(tr, 0) + n\n",
    "        language_gte[tr] = language_gte[tr] - n\n",
    "\n",
    "    language_lt_size = sum(language_lt.values(), 0.0)\n",
    "    language_gte_size = sum(language_gte.values(), 0.0)\n",
    "\n",
    "    stochastic_language_lt = { k: v / language_lt_size for k, v in language_lt.items() }\n",
    "    stochastic_language_gte = { k: v / language_gte_size for k, v in language_gte.items() }\n",
    "\n",
    "    uemsc = uEMSC(stochastic_language_lt, stochastic_language_gte)\n",
    "\n",
    "    # collect data to plot graph\n",
    "    uemscs.append(uemsc)\n",
    "\n",
    "t = time.time() - t\n",
    "\n",
    "time.sleep(1)\n",
    "\n",
    "print(f\"time elapsed: {t}\")"
   ]
  },
  {
   "cell_type": "code",
   "execution_count": 7,
   "metadata": {},
   "outputs": [
    {
     "data": {
      "image/png": "[encoded data removed]",
      "text/plain": [
       "<Figure size 1000x600 with 1 Axes>"
      ]
     },
     "metadata": {},
     "output_type": "display_data"
    }
   ],
   "source": [
    "plt.figure(figsize=(10,6))\n",
    "\n",
    "# plot mmlngld\n",
    "plt.plot(sorted_attribute_values[1:], uemscs, label=r\"uEMSC$(L_1,L_2)$\")\n",
    "plt.legend()\n",
    "plt.savefig(f\"out.uemsc.{file_name}.{attribute_key}.png\", bbox_inches=\"tight\")"
   ]
  },
  {
   "cell_type": "code",
   "execution_count": 8,
   "metadata": {},
   "outputs": [],
   "source": [
    "pd.DataFrame({\"uemsc\": uemscs}).to_csv(f\"out.uemsc.{file_name}.{attribute_key}.csv\", index=False, header=False)"
   ]
  }
 ],
 "metadata": {
  "kernelspec": {
   "display_name": "Python 3",
   "language": "python",
   "name": "python3"
  },
  "language_info": {
   "codemirror_mode": {
    "name": "ipython",
    "version": 3
   },
   "file_extension": ".py",
   "mimetype": "text/x-python",
   "name": "python",
   "nbconvert_exporter": "python",
   "pygments_lexer": "ipython3",
   "version": "3.11.4"
  }
 },
 "nbformat": 4,
 "nbformat_minor": 2
}
