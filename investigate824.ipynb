{
 "cells": [
  {
   "cell_type": "code",
   "execution_count": 1,
   "metadata": {},
   "outputs": [],
   "source": [
    "import pm4py\n",
    "import pandas as pd"
   ]
  },
  {
   "cell_type": "code",
   "execution_count": 3,
   "metadata": {},
   "outputs": [
    {
     "name": "stderr",
     "output_type": "stream",
     "text": [
      "/home/lennc/.local/lib/python3.11/site-packages/tqdm/auto.py:21: TqdmWarning: IProgress not found. Please update jupyter and ipywidgets. See https://ipywidgets.readthedocs.io/en/stable/user_install.html\n",
      "  from .autonotebook import tqdm as notebook_tqdm\n",
      "parsing log, completed traces :: 100%|██████████| 1143/1143 [00:04<00:00, 256.29it/s]\n"
     ]
    }
   ],
   "source": [
    "df = pm4py.read_xes(\"logs/Hospital_log.friendly.xes\")"
   ]
  },
  {
   "cell_type": "code",
   "execution_count": 7,
   "metadata": {},
   "outputs": [
    {
     "data": {
      "text/html": [
       "<div>\n",
       "<style scoped>\n",
       "    .dataframe tbody tr th:only-of-type {\n",
       "        vertical-align: middle;\n",
       "    }\n",
       "\n",
       "    .dataframe tbody tr th {\n",
       "        vertical-align: top;\n",
       "    }\n",
       "\n",
       "    .dataframe thead th {\n",
       "        text-align: right;\n",
       "    }\n",
       "</style>\n",
       "<table border=\"1\" class=\"dataframe\">\n",
       "  <thead>\n",
       "    <tr style=\"text-align: right;\">\n",
       "      <th></th>\n",
       "      <th>org:group</th>\n",
       "      <th>Number of executions</th>\n",
       "      <th>Specialism code</th>\n",
       "      <th>concept:name</th>\n",
       "      <th>Producer code</th>\n",
       "      <th>Section</th>\n",
       "      <th>Activity code</th>\n",
       "      <th>time:timestamp</th>\n",
       "      <th>lifecycle:transition</th>\n",
       "      <th>case:End date</th>\n",
       "      <th>...</th>\n",
       "      <th>case:Treatment code:14</th>\n",
       "      <th>case:Treatment code:15</th>\n",
       "      <th>case:Diagnosis:15</th>\n",
       "      <th>case:Diagnosis:14</th>\n",
       "      <th>case:Diagnosis:11</th>\n",
       "      <th>case:Diagnosis:13</th>\n",
       "      <th>case:Diagnosis:12</th>\n",
       "      <th>case:Diagnosis code:14</th>\n",
       "      <th>case:Diagnosis code:13</th>\n",
       "      <th>case:Diagnosis code:15</th>\n",
       "    </tr>\n",
       "  </thead>\n",
       "  <tbody>\n",
       "    <tr>\n",
       "      <th>0</th>\n",
       "      <td>Radiotherapy</td>\n",
       "      <td>1</td>\n",
       "      <td>61</td>\n",
       "      <td>1esconsultspoliklinisch</td>\n",
       "      <td>SRTH</td>\n",
       "      <td>Section 5</td>\n",
       "      <td>410100</td>\n",
       "      <td>2005-01-02 23:00:00+00:00</td>\n",
       "      <td>complete</td>\n",
       "      <td>2006-01-04 22:45:36+00:00</td>\n",
       "      <td>...</td>\n",
       "      <td>NaN</td>\n",
       "      <td>NaN</td>\n",
       "      <td>NaN</td>\n",
       "      <td>NaN</td>\n",
       "      <td>NaN</td>\n",
       "      <td>NaN</td>\n",
       "      <td>NaN</td>\n",
       "      <td>NaN</td>\n",
       "      <td>NaN</td>\n",
       "      <td>NaN</td>\n",
       "    </tr>\n",
       "    <tr>\n",
       "      <th>1</th>\n",
       "      <td>Radiotherapy</td>\n",
       "      <td>1</td>\n",
       "      <td>61</td>\n",
       "      <td>administratiefstariefsssssssxseerstespol</td>\n",
       "      <td>SRTH</td>\n",
       "      <td>Section 5</td>\n",
       "      <td>419100</td>\n",
       "      <td>2005-01-02 23:00:00+00:00</td>\n",
       "      <td>complete</td>\n",
       "      <td>2006-01-04 22:45:36+00:00</td>\n",
       "      <td>...</td>\n",
       "      <td>NaN</td>\n",
       "      <td>NaN</td>\n",
       "      <td>NaN</td>\n",
       "      <td>NaN</td>\n",
       "      <td>NaN</td>\n",
       "      <td>NaN</td>\n",
       "      <td>NaN</td>\n",
       "      <td>NaN</td>\n",
       "      <td>NaN</td>\n",
       "      <td>NaN</td>\n",
       "    </tr>\n",
       "    <tr>\n",
       "      <th>2</th>\n",
       "      <td>Nursing ward</td>\n",
       "      <td>1</td>\n",
       "      <td>7</td>\n",
       "      <td>verloskxxgynaecxskorteskaartskostenxout</td>\n",
       "      <td>SGEH</td>\n",
       "      <td>Section 2</td>\n",
       "      <td>10107</td>\n",
       "      <td>2005-01-04 23:00:00+00:00</td>\n",
       "      <td>complete</td>\n",
       "      <td>2006-01-04 22:45:36+00:00</td>\n",
       "      <td>...</td>\n",
       "      <td>NaN</td>\n",
       "      <td>NaN</td>\n",
       "      <td>NaN</td>\n",
       "      <td>NaN</td>\n",
       "      <td>NaN</td>\n",
       "      <td>NaN</td>\n",
       "      <td>NaN</td>\n",
       "      <td>NaN</td>\n",
       "      <td>NaN</td>\n",
       "      <td>NaN</td>\n",
       "    </tr>\n",
       "    <tr>\n",
       "      <th>3</th>\n",
       "      <td>Obstetrics &amp; Gynaecology clinic</td>\n",
       "      <td>1</td>\n",
       "      <td>7</td>\n",
       "      <td>echografiessxsgenitaliasinterna</td>\n",
       "      <td>SGEC</td>\n",
       "      <td>Section 2</td>\n",
       "      <td>339486E</td>\n",
       "      <td>2005-01-04 23:00:00+00:00</td>\n",
       "      <td>complete</td>\n",
       "      <td>2006-01-04 22:45:36+00:00</td>\n",
       "      <td>...</td>\n",
       "      <td>NaN</td>\n",
       "      <td>NaN</td>\n",
       "      <td>NaN</td>\n",
       "      <td>NaN</td>\n",
       "      <td>NaN</td>\n",
       "      <td>NaN</td>\n",
       "      <td>NaN</td>\n",
       "      <td>NaN</td>\n",
       "      <td>NaN</td>\n",
       "      <td>NaN</td>\n",
       "    </tr>\n",
       "  </tbody>\n",
       "</table>\n",
       "<p>4 rows × 128 columns</p>\n",
       "</div>"
      ],
      "text/plain": [
       "                         org:group  Number of executions  Specialism code  \\\n",
       "0                     Radiotherapy                     1               61   \n",
       "1                     Radiotherapy                     1               61   \n",
       "2                     Nursing ward                     1                7   \n",
       "3  Obstetrics & Gynaecology clinic                     1                7   \n",
       "\n",
       "                               concept:name Producer code    Section  \\\n",
       "0                   1esconsultspoliklinisch          SRTH  Section 5   \n",
       "1  administratiefstariefsssssssxseerstespol          SRTH  Section 5   \n",
       "2   verloskxxgynaecxskorteskaartskostenxout          SGEH  Section 2   \n",
       "3           echografiessxsgenitaliasinterna          SGEC  Section 2   \n",
       "\n",
       "  Activity code            time:timestamp lifecycle:transition  \\\n",
       "0        410100 2005-01-02 23:00:00+00:00             complete   \n",
       "1        419100 2005-01-02 23:00:00+00:00             complete   \n",
       "2         10107 2005-01-04 23:00:00+00:00             complete   \n",
       "3       339486E 2005-01-04 23:00:00+00:00             complete   \n",
       "\n",
       "              case:End date  ...  case:Treatment code:14  \\\n",
       "0 2006-01-04 22:45:36+00:00  ...                     NaN   \n",
       "1 2006-01-04 22:45:36+00:00  ...                     NaN   \n",
       "2 2006-01-04 22:45:36+00:00  ...                     NaN   \n",
       "3 2006-01-04 22:45:36+00:00  ...                     NaN   \n",
       "\n",
       "   case:Treatment code:15  case:Diagnosis:15 case:Diagnosis:14  \\\n",
       "0                     NaN                NaN               NaN   \n",
       "1                     NaN                NaN               NaN   \n",
       "2                     NaN                NaN               NaN   \n",
       "3                     NaN                NaN               NaN   \n",
       "\n",
       "   case:Diagnosis:11 case:Diagnosis:13  case:Diagnosis:12  \\\n",
       "0                NaN               NaN                NaN   \n",
       "1                NaN               NaN                NaN   \n",
       "2                NaN               NaN                NaN   \n",
       "3                NaN               NaN                NaN   \n",
       "\n",
       "  case:Diagnosis code:14 case:Diagnosis code:13 case:Diagnosis code:15  \n",
       "0                    NaN                    NaN                    NaN  \n",
       "1                    NaN                    NaN                    NaN  \n",
       "2                    NaN                    NaN                    NaN  \n",
       "3                    NaN                    NaN                    NaN  \n",
       "\n",
       "[4 rows x 128 columns]"
      ]
     },
     "execution_count": 7,
     "metadata": {},
     "output_type": "execute_result"
    }
   ],
   "source": [
    "df.head(4)"
   ]
  },
  {
   "cell_type": "code",
   "execution_count": 10,
   "metadata": {},
   "outputs": [],
   "source": [
    "df_824 = df[df[\"case:concept:name\"] == \"00000824\"]\n",
    "df_rest = df.drop(df_824.index)"
   ]
  },
  {
   "cell_type": "code",
   "execution_count": 14,
   "metadata": {},
   "outputs": [],
   "source": [
    "events_824 = df_824[\"concept:name\"].unique().tolist()\n",
    "events_rest = df_rest[\"concept:name\"].unique().tolist()"
   ]
  },
  {
   "cell_type": "code",
   "execution_count": 15,
   "metadata": {},
   "outputs": [
    {
     "data": {
      "text/plain": [
       "['wormeieren - uitgebreid -vervolg-', 'zink']"
      ]
     },
     "execution_count": 15,
     "metadata": {},
     "output_type": "execute_result"
    }
   ],
   "source": [
    "[ x for x in events_824 if x not in events_rest ]"
   ]
  }
 ],
 "metadata": {
  "kernelspec": {
   "display_name": "Python 3",
   "language": "python",
   "name": "python3"
  },
  "language_info": {
   "codemirror_mode": {
    "name": "ipython",
    "version": 3
   },
   "file_extension": ".py",
   "mimetype": "text/x-python",
   "name": "python",
   "nbconvert_exporter": "python",
   "pygments_lexer": "ipython3",
   "version": "3.11.4"
  },
  "orig_nbformat": 4
 },
 "nbformat": 4,
 "nbformat_minor": 2
}
