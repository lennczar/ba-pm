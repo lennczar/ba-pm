{
 "cells": [
  {
   "cell_type": "code",
   "execution_count": 34,
   "metadata": {},
   "outputs": [],
   "source": [
    "import pandas as pd\n",
    "import pm4py"
   ]
  },
  {
   "cell_type": "code",
   "execution_count": 35,
   "metadata": {},
   "outputs": [],
   "source": [
    "file_name = \"BPI_Challenge_2018\"\n",
    "attribute_key = \"amount_applied0\"\n",
    "\n",
    "pivot = 346.16"
   ]
  },
  {
   "cell_type": "code",
   "execution_count": 36,
   "metadata": {},
   "outputs": [],
   "source": [
    "case_attribute_key = f'case:{attribute_key}'\n",
    "case_id_key = \"case:concept:name\"\n",
    "\n",
    "df = pd.read_csv(f'logs/{file_name}.{attribute_key}.csv')\n",
    "df[\"time:timestamp\"] = pd.to_datetime(df['time:timestamp'])\n",
    "df[\"case:concept:name\"] = df['case:concept:name'].astype(str)\n",
    "df[\"concept:name\"] = df['concept:name'].astype(str)"
   ]
  },
  {
   "cell_type": "code",
   "execution_count": 37,
   "metadata": {},
   "outputs": [],
   "source": [
    "df['case:boolean'] = df.apply(lambda x: x[f\"case:{attribute_key}\"] < pivot, axis=1)"
   ]
  },
  {
   "cell_type": "code",
   "execution_count": 38,
   "metadata": {},
   "outputs": [],
   "source": [
    "df = df.drop(columns=[f\"case:{attribute_key}\",\"Unnamed: 0\"])"
   ]
  },
  {
   "cell_type": "code",
   "execution_count": 39,
   "metadata": {},
   "outputs": [
    {
     "data": {
      "text/html": [
       "<div>\n",
       "<style scoped>\n",
       "    .dataframe tbody tr th:only-of-type {\n",
       "        vertical-align: middle;\n",
       "    }\n",
       "\n",
       "    .dataframe tbody tr th {\n",
       "        vertical-align: top;\n",
       "    }\n",
       "\n",
       "    .dataframe thead th {\n",
       "        text-align: right;\n",
       "    }\n",
       "</style>\n",
       "<table border=\"1\" class=\"dataframe\">\n",
       "  <thead>\n",
       "    <tr style=\"text-align: right;\">\n",
       "      <th></th>\n",
       "      <th>case:concept:name</th>\n",
       "      <th>concept:name</th>\n",
       "      <th>time:timestamp</th>\n",
       "      <th>lifecycle:transition</th>\n",
       "      <th>case:boolean</th>\n",
       "    </tr>\n",
       "  </thead>\n",
       "  <tbody>\n",
       "    <tr>\n",
       "      <th>0</th>\n",
       "      <td>8b99873a6136cfa6</td>\n",
       "      <td>mail income</td>\n",
       "      <td>2015-05-07 22:00:00+00:00</td>\n",
       "      <td>complete</td>\n",
       "      <td>False</td>\n",
       "    </tr>\n",
       "    <tr>\n",
       "      <th>1</th>\n",
       "      <td>8b99873a6136cfa6</td>\n",
       "      <td>mail valid</td>\n",
       "      <td>2015-05-07 22:00:00+00:00</td>\n",
       "      <td>complete</td>\n",
       "      <td>False</td>\n",
       "    </tr>\n",
       "    <tr>\n",
       "      <th>2</th>\n",
       "      <td>8b99873a6136cfa6</td>\n",
       "      <td>mail valid</td>\n",
       "      <td>2015-05-07 22:00:00+00:00</td>\n",
       "      <td>complete</td>\n",
       "      <td>False</td>\n",
       "    </tr>\n",
       "    <tr>\n",
       "      <th>3</th>\n",
       "      <td>8b99873a6136cfa6</td>\n",
       "      <td>mail valid</td>\n",
       "      <td>2015-05-07 22:00:00+00:00</td>\n",
       "      <td>complete</td>\n",
       "      <td>False</td>\n",
       "    </tr>\n",
       "    <tr>\n",
       "      <th>4</th>\n",
       "      <td>8b99873a6136cfa6</td>\n",
       "      <td>initialize</td>\n",
       "      <td>2015-06-10 09:16:28+00:00</td>\n",
       "      <td>complete</td>\n",
       "      <td>False</td>\n",
       "    </tr>\n",
       "  </tbody>\n",
       "</table>\n",
       "</div>"
      ],
      "text/plain": [
       "  case:concept:name concept:name            time:timestamp  \\\n",
       "0  8b99873a6136cfa6  mail income 2015-05-07 22:00:00+00:00   \n",
       "1  8b99873a6136cfa6   mail valid 2015-05-07 22:00:00+00:00   \n",
       "2  8b99873a6136cfa6   mail valid 2015-05-07 22:00:00+00:00   \n",
       "3  8b99873a6136cfa6   mail valid 2015-05-07 22:00:00+00:00   \n",
       "4  8b99873a6136cfa6   initialize 2015-06-10 09:16:28+00:00   \n",
       "\n",
       "  lifecycle:transition  case:boolean  \n",
       "0             complete         False  \n",
       "1             complete         False  \n",
       "2             complete         False  \n",
       "3             complete         False  \n",
       "4             complete         False  "
      ]
     },
     "execution_count": 39,
     "metadata": {},
     "output_type": "execute_result"
    }
   ],
   "source": [
    "df.head()"
   ]
  },
  {
   "cell_type": "code",
   "execution_count": 40,
   "metadata": {},
   "outputs": [
    {
     "name": "stderr",
     "output_type": "stream",
     "text": [
      "exporting log, completed traces :: 100%|██████████| 43809/43809 [00:17<00:00, 2464.36it/s]\n"
     ]
    }
   ],
   "source": [
    "pm4py.write_xes(df, f\"logs/{file_name}.{attribute_key}.boolean.xes\")"
   ]
  },
  {
   "cell_type": "code",
   "execution_count": 41,
   "metadata": {},
   "outputs": [
    {
     "name": "stderr",
     "output_type": "stream",
     "text": [
      "exporting log, completed traces :: 100%|██████████| 109/109 [00:00<00:00, 2720.33it/s]\n",
      "exporting log, completed traces :: 100%|██████████| 43700/43700 [00:17<00:00, 2468.82it/s]\n"
     ]
    }
   ],
   "source": [
    "pm4py.write_xes(df[df[\"case:boolean\"] == True], f\"logs/{file_name}.{attribute_key}.boolean.lt{pivot}.xes\")\n",
    "pm4py.write_xes(df[df[\"case:boolean\"] == False], f\"logs/{file_name}.{attribute_key}.boolean.gte{pivot}.xes\")"
   ]
  }
 ],
 "metadata": {
  "kernelspec": {
   "display_name": "Python 3",
   "language": "python",
   "name": "python3"
  },
  "language_info": {
   "codemirror_mode": {
    "name": "ipython",
    "version": 3
   },
   "file_extension": ".py",
   "mimetype": "text/x-python",
   "name": "python",
   "nbconvert_exporter": "python",
   "pygments_lexer": "ipython3",
   "version": "3.11.4"
  },
  "orig_nbformat": 4
 },
 "nbformat": 4,
 "nbformat_minor": 2
}
